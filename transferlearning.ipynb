{
  "nbformat": 4,
  "nbformat_minor": 0,
  "metadata": {
    "colab": {
      "provenance": [],
      "gpuType": "T4"
    },
    "kernelspec": {
      "name": "python3",
      "display_name": "Python 3"
    },
    "language_info": {
      "name": "python"
    },
    "accelerator": "GPU"
  },
  "cells": [
    {
      "cell_type": "code",
      "execution_count": null,
      "metadata": {
        "colab": {
          "base_uri": "https://localhost:8080/"
        },
        "id": "FlKek1VZ__LA",
        "outputId": "e2d4ded6-f1f9-4f16-ca21-4c778c9c9852"
      },
      "outputs": [
        {
          "output_type": "stream",
          "name": "stdout",
          "text": [
            "Mounted at /content/drive\n"
          ]
        }
      ],
      "source": [
        "from google.colab import drive\n",
        "drive.mount('/content/drive')"
      ]
    },
    {
      "cell_type": "code",
      "source": [
        "file_path1 = '/content/drive/MyDrive/AIO/transferlearning/data50/train'\n",
        "file_path2 = '/content/drive/MyDrive/AIO/transferlearning/data50/validation'"
      ],
      "metadata": {
        "id": "nESFACFpAhQg"
      },
      "execution_count": null,
      "outputs": []
    },
    {
      "cell_type": "code",
      "source": [
        "import torch\n",
        "from torchvision import datasets, transforms\n",
        "import torch.nn as nn\n",
        "import torch.nn.functional as F\n",
        "\n",
        "import numpy as np\n",
        "import matplotlib.pyplot as plt\n",
        "\n",
        "from torchvision.datasets import CIFAR10\n",
        "from torch.utils.data import DataLoader\n",
        "from torch.optim import Adam\n",
        "import torchvision\n",
        "import torchvision.models as models\n",
        "\n",
        "torch.manual_seed(1)\n",
        "device = 'cuda' if torch.cuda.is_available() else 'cpu'"
      ],
      "metadata": {
        "id": "NyZwRcuEAhjQ"
      },
      "execution_count": null,
      "outputs": []
    },
    {
      "cell_type": "code",
      "source": [
        "train_transform = transforms.Compose(\n",
        "    [\n",
        "        transforms.Resize((224, 224)),   # Resize images to a fixed size\n",
        "        transforms.ToTensor(),           # Convert images to PyTorch tensors\n",
        "        transforms.Normalize(mean=[0.485, 0.456, 0.406],\n",
        "                             std=[0.229, 0.224, 0.225]),\n",
        "        transforms.RandomErasing(p=0.75,\n",
        "                                 scale=(0.01, 0.3),\n",
        "                                 ratio=(1.0, 1.0),\n",
        "                                 value=0,\n",
        "                                 inplace =True)\n",
        "    ])\n",
        "\n",
        "test_transform = transforms.Compose([\n",
        "    transforms.Resize((224, 224)),   # Resize images to a fixed size\n",
        "    transforms.ToTensor(),           # Convert images to PyTorch tensors\n",
        "    transforms.Normalize(mean=[0.485, 0.456, 0.406],\n",
        "                         std=[0.229, 0.224, 0.225]) # Normalize\n",
        "])\n",
        "\n",
        "# Load datasets\n",
        "train_dataset = datasets.ImageFolder(file_path1, transform=train_transform)\n",
        "test_dataset = datasets.ImageFolder(file_path2, transform=test_transform)\n",
        "\n",
        "# Create data loaders\n",
        "train_loader = DataLoader(train_dataset, batch_size=32, shuffle=True)\n",
        "test_loader = DataLoader(test_dataset, batch_size=32, shuffle=False)"
      ],
      "metadata": {
        "id": "zL3vCZqFAhov"
      },
      "execution_count": null,
      "outputs": []
    },
    {
      "cell_type": "code",
      "source": [
        "from torchsummary import summary\n",
        "\n",
        "vgg16 = models.vgg16()\n",
        "f_extractor = vgg16.features\n",
        "\n",
        "model = nn.Sequential(\n",
        "    f_extractor,\n",
        "    nn.Flatten(),\n",
        "    nn.Dropout(0.3),\n",
        "    nn.Linear(512* 7*7, 512),\n",
        "    nn.ReLU(),\n",
        "    nn.Dropout(0.3),\n",
        "    nn.Linear(512, 2)\n",
        ")\n",
        "\n",
        "model.to(device)\n",
        "summary(model,(3, 224, 224))"
      ],
      "metadata": {
        "id": "k6IXODgFAhrY",
        "colab": {
          "base_uri": "https://localhost:8080/"
        },
        "outputId": "eb672070-f40b-4ac5-bd2e-a8c2000ecb89"
      },
      "execution_count": null,
      "outputs": [
        {
          "output_type": "stream",
          "name": "stdout",
          "text": [
            "----------------------------------------------------------------\n",
            "        Layer (type)               Output Shape         Param #\n",
            "================================================================\n",
            "            Conv2d-1         [-1, 64, 224, 224]           1,792\n",
            "              ReLU-2         [-1, 64, 224, 224]               0\n",
            "            Conv2d-3         [-1, 64, 224, 224]          36,928\n",
            "              ReLU-4         [-1, 64, 224, 224]               0\n",
            "         MaxPool2d-5         [-1, 64, 112, 112]               0\n",
            "            Conv2d-6        [-1, 128, 112, 112]          73,856\n",
            "              ReLU-7        [-1, 128, 112, 112]               0\n",
            "            Conv2d-8        [-1, 128, 112, 112]         147,584\n",
            "              ReLU-9        [-1, 128, 112, 112]               0\n",
            "        MaxPool2d-10          [-1, 128, 56, 56]               0\n",
            "           Conv2d-11          [-1, 256, 56, 56]         295,168\n",
            "             ReLU-12          [-1, 256, 56, 56]               0\n",
            "           Conv2d-13          [-1, 256, 56, 56]         590,080\n",
            "             ReLU-14          [-1, 256, 56, 56]               0\n",
            "           Conv2d-15          [-1, 256, 56, 56]         590,080\n",
            "             ReLU-16          [-1, 256, 56, 56]               0\n",
            "        MaxPool2d-17          [-1, 256, 28, 28]               0\n",
            "           Conv2d-18          [-1, 512, 28, 28]       1,180,160\n",
            "             ReLU-19          [-1, 512, 28, 28]               0\n",
            "           Conv2d-20          [-1, 512, 28, 28]       2,359,808\n",
            "             ReLU-21          [-1, 512, 28, 28]               0\n",
            "           Conv2d-22          [-1, 512, 28, 28]       2,359,808\n",
            "             ReLU-23          [-1, 512, 28, 28]               0\n",
            "        MaxPool2d-24          [-1, 512, 14, 14]               0\n",
            "           Conv2d-25          [-1, 512, 14, 14]       2,359,808\n",
            "             ReLU-26          [-1, 512, 14, 14]               0\n",
            "           Conv2d-27          [-1, 512, 14, 14]       2,359,808\n",
            "             ReLU-28          [-1, 512, 14, 14]               0\n",
            "           Conv2d-29          [-1, 512, 14, 14]       2,359,808\n",
            "             ReLU-30          [-1, 512, 14, 14]               0\n",
            "        MaxPool2d-31            [-1, 512, 7, 7]               0\n",
            "          Flatten-32                [-1, 25088]               0\n",
            "          Dropout-33                [-1, 25088]               0\n",
            "           Linear-34                  [-1, 512]      12,845,568\n",
            "             ReLU-35                  [-1, 512]               0\n",
            "          Dropout-36                  [-1, 512]               0\n",
            "           Linear-37                    [-1, 2]           1,026\n",
            "================================================================\n",
            "Total params: 27,561,282\n",
            "Trainable params: 27,561,282\n",
            "Non-trainable params: 0\n",
            "----------------------------------------------------------------\n",
            "Input size (MB): 0.57\n",
            "Forward/backward pass size (MB): 218.79\n",
            "Params size (MB): 105.14\n",
            "Estimated Total Size (MB): 324.50\n",
            "----------------------------------------------------------------\n"
          ]
        }
      ]
    },
    {
      "cell_type": "code",
      "source": [
        "criterion = nn.CrossEntropyLoss()\n",
        "optimizer = Adam(model.parameters(), lr=1e-4)"
      ],
      "metadata": {
        "id": "fb7SXmO4Ahtw"
      },
      "execution_count": null,
      "outputs": []
    },
    {
      "cell_type": "code",
      "source": [
        "# Function to compute loss and accuracy for test set\n",
        "def evaluate(model, test_loader, criterion):\n",
        "    model.eval()\n",
        "    test_loss = 0.0\n",
        "    running_correct = 0\n",
        "    total = 0\n",
        "    with torch.no_grad():\n",
        "        for images, labels in test_loader:\n",
        "            # Move inputs and labels to the device\n",
        "            images, labels = images.to(device), labels.to(device)\n",
        "\n",
        "            outputs = model(images)\n",
        "            loss = criterion(outputs, labels)\n",
        "            test_loss += loss.item()\n",
        "\n",
        "            _, predicted = torch.max(outputs.data, 1)\n",
        "            total += labels.size(0)\n",
        "            running_correct += (predicted == labels).sum().item()\n",
        "\n",
        "    accuracy = 100 * running_correct / total\n",
        "    test_loss = test_loss / len(test_loader)\n",
        "    return test_loss, accuracy"
      ],
      "metadata": {
        "id": "iyI1EQjwAhwx"
      },
      "execution_count": null,
      "outputs": []
    },
    {
      "cell_type": "code",
      "source": [
        "# some parameter\n",
        "train_losses = []\n",
        "train_accuracies = []\n",
        "test_losses = []\n",
        "test_accuracies = []\n",
        "max_epoch = 50"
      ],
      "metadata": {
        "id": "zikuWxgpAhzA"
      },
      "execution_count": null,
      "outputs": []
    },
    {
      "cell_type": "code",
      "source": [
        "# train\n",
        "for epoch in range(max_epoch):\n",
        "    model.train()\n",
        "    running_loss = 0.0\n",
        "    running_correct = 0   # to track number of correct predictions\n",
        "    total = 0             # to track total number of samples\n",
        "\n",
        "    for i, (inputs, labels) in enumerate(train_loader, 0):\n",
        "        # Move inputs and labels to the device\n",
        "        inputs, labels = inputs.to(device), labels.to(device)\n",
        "\n",
        "        # Zero the parameter gradients\n",
        "        optimizer.zero_grad()\n",
        "\n",
        "        # Forward pass\n",
        "        outputs = model(inputs)\n",
        "        loss = criterion(outputs, labels)\n",
        "        running_loss += loss.item()\n",
        "\n",
        "        # Backward pass and optimization\n",
        "        loss.backward()\n",
        "        optimizer.step()\n",
        "\n",
        "        # Determine class predictions and track accuracy\n",
        "        _, predicted = torch.max(outputs.data, 1)\n",
        "        total += labels.size(0)\n",
        "        running_correct += (predicted == labels).sum().item()\n",
        "\n",
        "\n",
        "    epoch_accuracy = 100 * running_correct / total\n",
        "    epoch_loss = running_loss / (i + 1)\n",
        "\n",
        "    test_loss, test_accuracy = evaluate(model, test_loader, criterion)\n",
        "    print(f\"Epoch [{epoch + 1}/{max_epoch}], Loss: {epoch_loss:.4f}, Accuracy: {epoch_accuracy:.2f}%, Test Loss: {test_loss:.4f}, Test Accuracy: {test_accuracy:.2f}%\")\n",
        "\n",
        "    # save for plot\n",
        "    train_losses.append(epoch_loss)\n",
        "    train_accuracies.append(epoch_accuracy)\n",
        "    test_losses.append(test_loss)\n",
        "    test_accuracies.append(test_accuracy)"
      ],
      "metadata": {
        "id": "694uny3_Ah14",
        "colab": {
          "base_uri": "https://localhost:8080/"
        },
        "outputId": "a8205c38-a69a-495a-9037-fcfa17794e04"
      },
      "execution_count": null,
      "outputs": [
        {
          "output_type": "stream",
          "name": "stdout",
          "text": [
            "Epoch [1/50], Loss: 0.6919, Accuracy: 50.00%, Test Loss: 0.6973, Test Accuracy: 50.00%\n",
            "Epoch [2/50], Loss: 0.6859, Accuracy: 58.00%, Test Loss: 0.6861, Test Accuracy: 62.00%\n",
            "Epoch [3/50], Loss: 0.6770, Accuracy: 69.00%, Test Loss: 0.6832, Test Accuracy: 59.00%\n",
            "Epoch [4/50], Loss: 0.6392, Accuracy: 61.00%, Test Loss: 0.7342, Test Accuracy: 55.00%\n",
            "Epoch [5/50], Loss: 0.6048, Accuracy: 70.00%, Test Loss: 0.6270, Test Accuracy: 57.00%\n",
            "Epoch [6/50], Loss: 0.7600, Accuracy: 67.00%, Test Loss: 0.7782, Test Accuracy: 57.00%\n",
            "Epoch [7/50], Loss: 0.5810, Accuracy: 70.00%, Test Loss: 0.7676, Test Accuracy: 48.00%\n",
            "Epoch [8/50], Loss: 0.6200, Accuracy: 75.00%, Test Loss: 0.8138, Test Accuracy: 56.00%\n",
            "Epoch [9/50], Loss: 0.5205, Accuracy: 75.00%, Test Loss: 0.7905, Test Accuracy: 55.00%\n",
            "Epoch [10/50], Loss: 0.6146, Accuracy: 69.00%, Test Loss: 0.7275, Test Accuracy: 56.00%\n",
            "Epoch [11/50], Loss: 0.8175, Accuracy: 75.00%, Test Loss: 0.7100, Test Accuracy: 57.00%\n",
            "Epoch [12/50], Loss: 0.5816, Accuracy: 68.00%, Test Loss: 0.6482, Test Accuracy: 49.00%\n",
            "Epoch [13/50], Loss: 0.6218, Accuracy: 64.00%, Test Loss: 0.6879, Test Accuracy: 53.00%\n",
            "Epoch [14/50], Loss: 0.5604, Accuracy: 78.00%, Test Loss: 0.6939, Test Accuracy: 59.00%\n",
            "Epoch [15/50], Loss: 0.3678, Accuracy: 82.00%, Test Loss: 1.0320, Test Accuracy: 57.00%\n",
            "Epoch [16/50], Loss: 0.4798, Accuracy: 79.00%, Test Loss: 0.9994, Test Accuracy: 53.00%\n",
            "Epoch [17/50], Loss: 0.3279, Accuracy: 87.00%, Test Loss: 1.0634, Test Accuracy: 49.00%\n",
            "Epoch [18/50], Loss: 0.3737, Accuracy: 80.00%, Test Loss: 1.3477, Test Accuracy: 55.00%\n",
            "Epoch [19/50], Loss: 0.4937, Accuracy: 77.00%, Test Loss: 0.8843, Test Accuracy: 44.00%\n",
            "Epoch [20/50], Loss: 0.5235, Accuracy: 75.00%, Test Loss: 0.7925, Test Accuracy: 46.00%\n",
            "Epoch [21/50], Loss: 0.3582, Accuracy: 82.00%, Test Loss: 0.7561, Test Accuracy: 58.00%\n",
            "Epoch [22/50], Loss: 0.3532, Accuracy: 85.00%, Test Loss: 0.9753, Test Accuracy: 60.00%\n",
            "Epoch [23/50], Loss: 0.2967, Accuracy: 85.00%, Test Loss: 1.1601, Test Accuracy: 58.00%\n",
            "Epoch [24/50], Loss: 0.2594, Accuracy: 86.00%, Test Loss: 1.2104, Test Accuracy: 62.00%\n",
            "Epoch [25/50], Loss: 0.2945, Accuracy: 85.00%, Test Loss: 1.2355, Test Accuracy: 59.00%\n",
            "Epoch [26/50], Loss: 0.2485, Accuracy: 88.00%, Test Loss: 1.1892, Test Accuracy: 55.00%\n",
            "Epoch [27/50], Loss: 0.1769, Accuracy: 93.00%, Test Loss: 1.5336, Test Accuracy: 54.00%\n",
            "Epoch [28/50], Loss: 0.1828, Accuracy: 91.00%, Test Loss: 1.7738, Test Accuracy: 51.00%\n",
            "Epoch [29/50], Loss: 0.1166, Accuracy: 96.00%, Test Loss: 2.0279, Test Accuracy: 53.00%\n",
            "Epoch [30/50], Loss: 0.2055, Accuracy: 92.00%, Test Loss: 2.7218, Test Accuracy: 52.00%\n",
            "Epoch [31/50], Loss: 0.1816, Accuracy: 92.00%, Test Loss: 1.8854, Test Accuracy: 54.00%\n",
            "Epoch [32/50], Loss: 0.3200, Accuracy: 85.00%, Test Loss: 1.4440, Test Accuracy: 59.00%\n",
            "Epoch [33/50], Loss: 0.2672, Accuracy: 89.00%, Test Loss: 1.0153, Test Accuracy: 57.00%\n",
            "Epoch [34/50], Loss: 0.1880, Accuracy: 92.00%, Test Loss: 1.0837, Test Accuracy: 59.00%\n",
            "Epoch [35/50], Loss: 0.1917, Accuracy: 92.00%, Test Loss: 1.5584, Test Accuracy: 57.00%\n",
            "Epoch [36/50], Loss: 0.1382, Accuracy: 93.00%, Test Loss: 1.9828, Test Accuracy: 48.00%\n",
            "Epoch [37/50], Loss: 0.1285, Accuracy: 95.00%, Test Loss: 2.4434, Test Accuracy: 49.00%\n",
            "Epoch [38/50], Loss: 0.1059, Accuracy: 95.00%, Test Loss: 2.5733, Test Accuracy: 56.00%\n",
            "Epoch [39/50], Loss: 0.4530, Accuracy: 98.00%, Test Loss: 2.4639, Test Accuracy: 56.00%\n",
            "Epoch [40/50], Loss: 0.7447, Accuracy: 86.00%, Test Loss: 1.5551, Test Accuracy: 50.00%\n",
            "Epoch [41/50], Loss: 0.4171, Accuracy: 77.00%, Test Loss: 0.9849, Test Accuracy: 52.00%\n",
            "Epoch [42/50], Loss: 0.4401, Accuracy: 75.00%, Test Loss: 0.9248, Test Accuracy: 59.00%\n",
            "Epoch [43/50], Loss: 0.4474, Accuracy: 74.00%, Test Loss: 1.0087, Test Accuracy: 59.00%\n",
            "Epoch [44/50], Loss: 0.3923, Accuracy: 79.00%, Test Loss: 1.1504, Test Accuracy: 58.00%\n",
            "Epoch [45/50], Loss: 0.3586, Accuracy: 86.00%, Test Loss: 1.2590, Test Accuracy: 61.00%\n",
            "Epoch [46/50], Loss: 0.2719, Accuracy: 89.00%, Test Loss: 1.1493, Test Accuracy: 64.00%\n",
            "Epoch [47/50], Loss: 0.3085, Accuracy: 88.00%, Test Loss: 1.0447, Test Accuracy: 60.00%\n",
            "Epoch [48/50], Loss: 0.1568, Accuracy: 93.00%, Test Loss: 1.2909, Test Accuracy: 62.00%\n",
            "Epoch [49/50], Loss: 0.2031, Accuracy: 93.00%, Test Loss: 1.5090, Test Accuracy: 60.00%\n",
            "Epoch [50/50], Loss: 0.1403, Accuracy: 94.00%, Test Loss: 1.7838, Test Accuracy: 50.00%\n"
          ]
        }
      ]
    },
    {
      "cell_type": "code",
      "source": [],
      "metadata": {
        "id": "CS1Swv-JAh4g"
      },
      "execution_count": null,
      "outputs": []
    },
    {
      "cell_type": "code",
      "source": [],
      "metadata": {
        "id": "vcmrd0wyAh7Q"
      },
      "execution_count": null,
      "outputs": []
    }
  ]
}